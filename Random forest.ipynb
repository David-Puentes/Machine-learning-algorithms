{
 "cells": [
  {
   "cell_type": "code",
   "execution_count": 26,
   "metadata": {},
   "outputs": [],
   "source": [
    "%matplotlib inline\n",
    "\n",
    "import numpy as np\n",
    "import pandas as pd\n",
    "import matplotlib.pyplot as plt\n",
    "from sklearn import tree\n",
    "from sklearn.metrics import classification_report, confusion_matrix\n",
    "from sklearn.tree import DecisionTreeRegressor\n",
    "import urllib\n",
    "import seaborn as sns\n",
    "import random\n",
    "import seaborn as sns\n",
    "sns.set()"
   ]
  },
  {
   "cell_type": "code",
   "execution_count": 27,
   "metadata": {},
   "outputs": [],
   "source": [
    "# Lectura de los datos\n",
    "loc=r\"winequality-red.csv\"\n",
    "data= pd.read_csv(loc,sep=\";\",)\n",
    "names=list(data.columns.values)\n",
    "label=list(data[\"quality\"])\n",
    "xlist=(data.drop(\"quality\",1))\n",
    "xlist=[xlist.iloc[i] for i in range(len(xlist))]"
   ]
  },
  {
   "cell_type": "code",
   "execution_count": 28,
   "metadata": {},
   "outputs": [],
   "source": [
    "nrows = len(xlist)\n",
    "ncols = len(xlist[0])\n",
    "\n",
    "# Tomando un conjunto fijo de prueba del 30%\n",
    "random.seed()\n",
    "nSample = int(nrows*0.3)\n",
    "idxTest = random.sample(range(nrows),nSample)\n",
    "idxTest.sort()\n",
    "idxTrain = [idx for idx in range(nrows) if not (idx in idxTest)]\n",
    "\n",
    "xTrain = [xlist[r] for r in idxTrain]\n",
    "xTest = [xlist[r] for r in idxTest]\n",
    "yTrain = [label[r] for r in idxTrain]\n",
    "yTest = [label[r] for r in idxTest]"
   ]
  },
  {
   "cell_type": "code",
   "execution_count": 29,
   "metadata": {},
   "outputs": [
    {
     "name": "stdout",
     "output_type": "stream",
     "text": [
      "Mínimo MSE\n",
      "0.39493937204875657\n"
     ]
    },
    {
     "data": {
      "image/png": "[encoded data removed]",
      "text/plain": [
       "<Figure size 432x288 with 1 Axes>"
      ]
     },
     "metadata": {},
     "output_type": "display_data"
    }
   ],
   "source": [
    "numTreeMax = 30\n",
    "treeDepth = 12\n",
    "nAttr = 4\n",
    "\n",
    "modelList = []\n",
    "indexList = []\n",
    "predList = []\n",
    "nTrainRows = len(yTrain)\n",
    "\n",
    "for iTrees in range(numTreeMax):\n",
    "    modelList.append(DecisionTreeRegressor(max_depth=treeDepth))\n",
    "    \n",
    "    # Tomar una muestra de atributos\n",
    "    idxAttr = random.sample(range(ncols),nAttr)\n",
    "    idxAttr.sort()\n",
    "    indexList.append(idxAttr)\n",
    "    \n",
    "    # tomar muestras aleatorias\n",
    "    idxRows = []\n",
    "    for i in range(int(0.5 * nTrainRows)):\n",
    "        idxRows.append(random.choice(range(len(xTrain))))\n",
    "    idxRows.sort()\n",
    "    \n",
    "    xRfTrain = []\n",
    "    yRfTrain = []\n",
    "    \n",
    "    for i in range(len(idxRows)):\n",
    "        temp = [xTrain[idxRows[i]][j] for j in idxAttr]\n",
    "        xRfTrain.append(temp)\n",
    "        yRfTrain.append(yTrain[idxRows[i]])\n",
    "        \n",
    "    modelList[-1].fit(xRfTrain, yRfTrain)\n",
    "    \n",
    "    # Restringir xTest a los atributos seleccionados para entrenamiento\n",
    "    xRfTest = []\n",
    "    for xx in xTest:\n",
    "        temp = [xx[i] for i in idxAttr]\n",
    "        xRfTest.append(temp)\n",
    "    latestOutSamplePrediction = modelList[-1].predict(xRfTest)\n",
    "    predList.append(latestOutSamplePrediction)\n",
    "    \n",
    "# Construcción de los m modelos\n",
    "mse = []\n",
    "allPredictions = []\n",
    "for iModels in range(len(modelList)):\n",
    "    prediction = []\n",
    "    for iPred in range(len(xTest)):\n",
    "        prediction.append(sum([predList[i][iPred] for i in range(iModels + 1)])/(iModels + 1))\n",
    "        \n",
    "    allPredictions.append(prediction)\n",
    "    errors = [(yTest[i] - prediction[i]) for i in range(len(yTest))]\n",
    "    mse.append(sum([e * e for e in errors])/len(yTest))\n",
    "    \n",
    "nModels = [i + 1 for i in range(len(modelList))]\n",
    "plt.plot(nModels,mse)\n",
    "plt.axis(\"tight\")\n",
    "plt.xlabel(\"Número de árboles en el ensamble\")\n",
    "plt.ylabel(\"Error cuadrado medio\")\n",
    "plt.ylim((0.0,max(mse)))\n",
    "\n",
    "print(\"Mínimo MSE\")\n",
    "print(min(mse))"
   ]
  },
  {
   "cell_type": "code",
   "execution_count": null,
   "metadata": {},
   "outputs": [],
   "source": []
  }
 ],
 "metadata": {
  "kernelspec": {
   "display_name": "Python 3",
   "language": "python",
   "name": "python3"
  },
  "language_info": {
   "codemirror_mode": {
    "name": "ipython",
    "version": 3
   },
   "file_extension": ".py",
   "mimetype": "text/x-python",
   "name": "python",
   "nbconvert_exporter": "python",
   "pygments_lexer": "ipython3",
   "version": "3.6.5"
  }
 },
 "nbformat": 4,
 "nbformat_minor": 2
}
