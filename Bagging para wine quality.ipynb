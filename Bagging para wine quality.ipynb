{
 "cells": [
  {
   "cell_type": "code",
   "execution_count": 1,
   "metadata": {},
   "outputs": [],
   "source": [
    "%matplotlib inline\n",
    "\n",
    "import numpy as np\n",
    "import pandas as pd\n",
    "import matplotlib.pyplot as plt\n",
    "from sklearn import tree\n",
    "from sklearn.tree import DecisionTreeRegressor\n",
    "import seaborn as sns\n",
    "import random\n",
    "import seaborn as sns\n",
    "sns.set()"
   ]
  },
  {
   "cell_type": "code",
   "execution_count": 2,
   "metadata": {},
   "outputs": [],
   "source": [
    "# Lectura de los datos\n",
    "loc=r\"winequality-red.csv\"\n",
    "data= pd.read_csv(loc,sep=\";\",)\n",
    "names=list(data.columns.values)\n",
    "label=list(data[\"quality\"])\n",
    "xlist=(data.drop(\"quality\",1))\n",
    "xlist=[xlist.iloc[i] for i in range(len(xlist))]"
   ]
  },
  {
   "cell_type": "code",
   "execution_count": 3,
   "metadata": {},
   "outputs": [
    {
     "name": "stdout",
     "output_type": "stream",
     "text": [
      "Valor mínimo de mse: 0.3886\n"
     ]
    },
    {
     "data": {
      "image/png": "[encoded data removed]",
      "text/plain": [
       "<Figure size 432x288 with 1 Axes>"
      ]
     },
     "metadata": {},
     "output_type": "display_data"
    }
   ],
   "source": [
    "nrows = len(xlist)\n",
    "ncols = len(xlist[0])\n",
    "\n",
    "# Tomando un conjunto fijo de prueba del 30%\n",
    "np.random.seed(1)\n",
    "nSample = int(nrows*0.3)\n",
    "idxTest = random.sample(range(nrows),nSample)\n",
    "idxTest.sort()\n",
    "idxTrain = [idx for idx in range(nrows) if not (idx in idxTest)]\n",
    "\n",
    "xTrain = [xlist[r] for r in idxTrain]\n",
    "xTest = [xlist[r] for r in idxTest]\n",
    "yTrain = [label[r] for r in idxTrain]\n",
    "yTest = [label[r] for r in idxTest]\n",
    "\n",
    "\n",
    "# Entrenamiento de múltiples modelos\n",
    "numTreeMax = 100\n",
    "treeDepth = 12\n",
    "\n",
    "modelList = []\n",
    "predList = []\n",
    "nBagSamples = int (len(xTrain)*0.5)\n",
    "\n",
    "for iTrees in range(numTreeMax):\n",
    "    idxBag = []\n",
    "    for i in range(nBagSamples):\n",
    "        idxBag.append(random.choice(range(len(xTrain))))\n",
    "    xTrainBag = [xTrain[i] for i in idxBag]\n",
    "    yTrainBag = [yTrain[i] for i in idxBag]\n",
    "    \n",
    "    modelList.append(DecisionTreeRegressor(max_depth=treeDepth))\n",
    "    modelList[-1].fit(xTrainBag,yTrainBag)\n",
    "    \n",
    "    # Realizar las predicciones con el último modelo\n",
    "    latestPrediction = modelList[-1].predict(xTest)\n",
    "    predList.append(list(latestPrediction))\n",
    "    \n",
    "# Construir la predicción acumulada para los primeros n modelos\n",
    "\n",
    "mse = []\n",
    "allPredictions = []\n",
    "for iModels in range(len(modelList)):\n",
    "    # Promediar los primeros i modelos\n",
    "    prediction = []\n",
    "    for iPred in range(len(xTest)):\n",
    "        prediction.append(sum([predList[i][iPred] for i in range(iModels + 1)])/(iModels + 1))\n",
    "    \n",
    "    allPredictions.append(prediction)\n",
    "    errors = [(yTest[i] - prediction[i]) for i in range(len(yTest))]\n",
    "    mse.append(sum([e * e for e in errors])/len(yTest))\n",
    "    \n",
    "nModels = [i+1 for i in range(len(modelList))]\n",
    "plt.plot(nModels,mse)\n",
    "plt.axis(\"tight\")\n",
    "plt.xlabel(\"Numero de árboles en el ensamble\")\n",
    "plt.ylabel(\"Error cuadrado medio\")\n",
    "plt.ylim((0.0,max(mse)));\n",
    "\n",
    "print(\"Valor mínimo de mse: %.4f\" % min(mse))"
   ]
  }
 ],
 "metadata": {
  "kernelspec": {
   "display_name": "Python 3",
   "language": "python",
   "name": "python3"
  },
  "language_info": {
   "codemirror_mode": {
    "name": "ipython",
    "version": 3
   },
   "file_extension": ".py",
   "mimetype": "text/x-python",
   "name": "python",
   "nbconvert_exporter": "python",
   "pygments_lexer": "ipython3",
   "version": "3.6.5"
  }
 },
 "nbformat": 4,
 "nbformat_minor": 2
}
