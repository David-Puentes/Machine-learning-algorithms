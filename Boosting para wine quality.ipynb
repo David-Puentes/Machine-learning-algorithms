{
 "cells": [
  {
   "cell_type": "code",
   "execution_count": 1,
   "metadata": {},
   "outputs": [],
   "source": [
    "%matplotlib inline\n",
    "\n",
    "import numpy as np\n",
    "import pandas as pd\n",
    "import matplotlib.pyplot as plt\n",
    "from sklearn import tree\n",
    "from sklearn.metrics import classification_report, confusion_matrix\n",
    "from sklearn.tree import DecisionTreeRegressor\n",
    "import seaborn as sns\n",
    "import random\n",
    "import seaborn as sns\n",
    "sns.set()"
   ]
  },
  {
   "cell_type": "code",
   "execution_count": 2,
   "metadata": {},
   "outputs": [],
   "source": [
    "# Lectura de los datos\n",
    "loc=r\"winequality-red.csv\"\n",
    "data= pd.read_csv(loc,sep=\";\",)\n",
    "names=list(data.columns.values)\n",
    "label=list(data[\"quality\"])\n",
    "xlist=(data.drop(\"quality\",1))\n",
    "xlist=[xlist.iloc[i] for i in range(len(xlist))]"
   ]
  },
  {
   "cell_type": "code",
   "execution_count": 3,
   "metadata": {},
   "outputs": [],
   "source": [
    "nrows = len(xlist)\n",
    "ncols = len(xlist[0])\n",
    "\n",
    "# Tomando un conjunto fijo de prueba del 30%\n",
    "np.random.seed(1)\n",
    "nSample = int(nrows*0.3)\n",
    "idxTest = random.sample(range(nrows),nSample)\n",
    "idxTest.sort()\n",
    "idxTrain = [idx for idx in range(nrows) if not (idx in idxTest)]\n",
    "\n",
    "xTrain = [xlist[r] for r in idxTrain]\n",
    "xTest = [xlist[r] for r in idxTest]\n",
    "yTrain = [label[r] for r in idxTrain]\n",
    "yTest = [label[r] for r in idxTest]\n"
   ]
  },
  {
   "cell_type": "code",
   "execution_count": 4,
   "metadata": {},
   "outputs": [
    {
     "data": {
      "image/png": "[encoded data removed]",
      "text/plain": [
       "<Figure size 432x288 with 1 Axes>"
      ]
     },
     "metadata": {},
     "output_type": "display_data"
    },
    {
     "name": "stdout",
     "output_type": "stream",
     "text": [
      "Mínimo MSE: 0.5086\n"
     ]
    }
   ],
   "source": [
    "numTreeMax = 30\n",
    "treeDepth = 5\n",
    "modelList = []\n",
    "predList = []\n",
    "eps = 0.1\n",
    "residuals = list(yTrain)\n",
    "\n",
    "for iTrees in range(numTreeMax):\n",
    "    \n",
    "    modelList.append(DecisionTreeRegressor(max_depth=treeDepth))\n",
    "    modelList[-1].fit(xTrain,residuals)\n",
    "    \n",
    "        # Hacer pronóstico con el último modelo y añadirlo a la lista de predicciones\n",
    "    latestInSamplePrediction = modelList[-1].predict(xTrain)\n",
    "    \n",
    "    # Usar la última predicción para actualizar residuales\n",
    "    residuals = [residuals[i] - eps * latestInSamplePrediction[i] for i in range(len(residuals))]\n",
    "    latestOutSamplePrediction = modelList[-1].predict(xTest)\n",
    "    predList.append(list(latestOutSamplePrediction))\n",
    "    \n",
    "# construir la predicción acumulada para los primeros n modelos\n",
    "mse = []\n",
    "allPredictions = []\n",
    "for iModels in range(len(modelList)):\n",
    "    # agregar los primero iModelos y multiplicar por eps\n",
    "    prediction = []\n",
    "    for iPred in range(len(xTest)):\n",
    "        prediction.append(sum([predList[i][iPred] for i in range (iModels + 1)])*eps)\n",
    "        \n",
    "    allPredictions.append(prediction)\n",
    "    errors = [(yTest[i] - prediction[i]) for i in range(len(yTest))]\n",
    "    mse.append(sum([e * e for e in errors])/len(yTest))\n",
    "    \n",
    "nModels = [i + 1 for i in range(len(modelList))]\n",
    "\n",
    "plt.plot(nModels,mse)\n",
    "plt.axis(\"tight\")\n",
    "plt.xlabel(\"Número de modelos\")\n",
    "plt.ylabel(\"Error cuadrado medio\")\n",
    "plt.ylim((0.0, max(mse)))\n",
    "plt.show()\n",
    "\n",
    "print(\"Mínimo MSE: %.4f\" %(min(mse)))"
   ]
  },
  {
   "cell_type": "code",
   "execution_count": null,
   "metadata": {},
   "outputs": [],
   "source": []
  }
 ],
 "metadata": {
  "kernelspec": {
   "display_name": "Python 3",
   "language": "python",
   "name": "python3"
  },
  "language_info": {
   "codemirror_mode": {
    "name": "ipython",
    "version": 3
   },
   "file_extension": ".py",
   "mimetype": "text/x-python",
   "name": "python",
   "nbconvert_exporter": "python",
   "pygments_lexer": "ipython3",
   "version": "3.6.5"
  }
 },
 "nbformat": 4,
 "nbformat_minor": 2
}
